{
  "nbformat": 4,
  "nbformat_minor": 0,
  "metadata": {
    "colab": {
      "provenance": [],
      "authorship_tag": "ABX9TyOSOU0fz+xt/KTpA803u1fD",
      "include_colab_link": true
    },
    "kernelspec": {
      "name": "python3",
      "display_name": "Python 3"
    },
    "language_info": {
      "name": "python"
    }
  },
  "cells": [
    {
      "cell_type": "markdown",
      "metadata": {
        "id": "view-in-github",
        "colab_type": "text"
      },
      "source": [
        "<a href=\"https://colab.research.google.com/github/PriyanshuKaushikgk/python-question/blob/main/Python_Patterns.ipynb\" target=\"_parent\"><img src=\"https://colab.research.google.com/assets/colab-badge.svg\" alt=\"Open In Colab\"/></a>"
      ]
    },
    {
      "cell_type": "code",
      "execution_count": 3,
      "metadata": {
        "colab": {
          "base_uri": "https://localhost:8080/"
        },
        "id": "SWm5GMkppFDc",
        "outputId": "f86f4e5f-2809-48eb-978a-d3d7c456cbfb"
      },
      "outputs": [
        {
          "output_type": "stream",
          "name": "stdout",
          "text": [
            "* \n",
            "\n",
            "* * \n",
            "\n",
            "* * * \n",
            "\n",
            "* * * * \n",
            "\n",
            "* * * * * \n",
            "\n"
          ]
        }
      ],
      "source": [
        "for row in range(1,6):\n",
        "  for col in range(1,row+1):\n",
        "    print(\"*\",end = \" \")\n",
        "  print(\"\\n\")"
      ]
    },
    {
      "cell_type": "code",
      "source": [
        "for row in range(5,0,-1):\n",
        "  for col in range(1,row+1):\n",
        "    print(\"*\",end=\" \")\n",
        "  print(\"\\n\")"
      ],
      "metadata": {
        "colab": {
          "base_uri": "https://localhost:8080/"
        },
        "id": "RS_2KXBlpaBC",
        "outputId": "9e10fbfc-ece2-4535-a5ff-30969a3b075a"
      },
      "execution_count": 7,
      "outputs": [
        {
          "output_type": "stream",
          "name": "stdout",
          "text": [
            "* * * * * \n",
            "\n",
            "* * * * \n",
            "\n",
            "* * * \n",
            "\n",
            "* * \n",
            "\n",
            "* \n",
            "\n"
          ]
        }
      ]
    },
    {
      "cell_type": "code",
      "source": [
        "for i in range(1,6):\n",
        "  for k in range(1,6-i):\n",
        "    print(\" \",end = \"\")\n",
        "  for j in range(1 ,i+1):\n",
        "      print(\"*\",end = \"\")\n",
        "  print(\"\\n\")"
      ],
      "metadata": {
        "colab": {
          "base_uri": "https://localhost:8080/"
        },
        "id": "l9-MngAfp0D3",
        "outputId": "9c17602a-7d24-49bd-a5c1-fce5b3596fe7"
      },
      "execution_count": 15,
      "outputs": [
        {
          "output_type": "stream",
          "name": "stdout",
          "text": [
            "    *\n",
            "\n",
            "   **\n",
            "\n",
            "  ***\n",
            "\n",
            " ****\n",
            "\n",
            "*****\n",
            "\n"
          ]
        }
      ]
    },
    {
      "cell_type": "code",
      "source": [
        "for i in range(5,0,-1):\n",
        "  for k in range(1,6-i):\n",
        "    print(\" \",end = \"\")\n",
        "  for j in range(1,i+1):\n",
        "    print(\"*\",end= \"\")\n",
        "  print(\"\\n\")"
      ],
      "metadata": {
        "colab": {
          "base_uri": "https://localhost:8080/"
        },
        "id": "l4z7yKO3rIsw",
        "outputId": "26306cb6-23a7-4c97-ac04-4b0ca5d996c2"
      },
      "execution_count": 14,
      "outputs": [
        {
          "output_type": "stream",
          "name": "stdout",
          "text": [
            "*****\n",
            "\n",
            " ****\n",
            "\n",
            "  ***\n",
            "\n",
            "   **\n",
            "\n",
            "    *\n",
            "\n"
          ]
        }
      ]
    },
    {
      "cell_type": "code",
      "source": [
        "for i in range(1,6):\n",
        "  for k in range(1,6-i):\n",
        "    print(\" \",end=\"\")\n",
        "  for j in range(1,(2*i-1)+1):\n",
        "    print(\"*\",end = \"\")\n",
        "  print(\"\\n\")"
      ],
      "metadata": {
        "colab": {
          "base_uri": "https://localhost:8080/"
        },
        "id": "oS6vqWpJsTVf",
        "outputId": "ac2d9b8f-b877-42dd-955b-6f2f3ab3db50"
      },
      "execution_count": 16,
      "outputs": [
        {
          "output_type": "stream",
          "name": "stdout",
          "text": [
            "    *\n",
            "\n",
            "   ***\n",
            "\n",
            "  *****\n",
            "\n",
            " *******\n",
            "\n",
            "*********\n",
            "\n"
          ]
        }
      ]
    },
    {
      "cell_type": "code",
      "source": [],
      "metadata": {
        "id": "QwOXkzLMvVRa"
      },
      "execution_count": null,
      "outputs": []
    }
  ]
}