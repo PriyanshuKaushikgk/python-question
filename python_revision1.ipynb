{
  "nbformat": 4,
  "nbformat_minor": 0,
  "metadata": {
    "colab": {
      "provenance": [],
      "authorship_tag": "ABX9TyOGOzPiR/HyRKgQ/Nxzh0kK",
      "include_colab_link": true
    },
    "kernelspec": {
      "name": "python3",
      "display_name": "Python 3"
    },
    "language_info": {
      "name": "python"
    }
  },
  "cells": [
    {
      "cell_type": "markdown",
      "metadata": {
        "id": "view-in-github",
        "colab_type": "text"
      },
      "source": [
        "<a href=\"https://colab.research.google.com/github/PriyanshuKaushikgk/python-question/blob/main/python_revision1.ipynb\" target=\"_parent\"><img src=\"https://colab.research.google.com/assets/colab-badge.svg\" alt=\"Open In Colab\"/></a>"
      ]
    },
    {
      "cell_type": "code",
      "execution_count": null,
      "metadata": {
        "colab": {
          "base_uri": "https://localhost:8080/"
        },
        "id": "B2jZ5AJqJxr5",
        "outputId": "22c9ef90-d8d1-4584-e49a-ef5b4c01ebf4"
      },
      "outputs": [
        {
          "output_type": "stream",
          "name": "stdout",
          "text": [
            "<class 'int'>\n"
          ]
        }
      ],
      "source": [
        "salary = 100000\n",
        "print(type(salary))"
      ]
    },
    {
      "cell_type": "code",
      "source": [
        "salary = \"100000\"\n",
        "print(type(salary))"
      ],
      "metadata": {
        "colab": {
          "base_uri": "https://localhost:8080/"
        },
        "id": "ual5m2_sKFrN",
        "outputId": "071b870d-ad13-4214-95ed-deb6e8256114"
      },
      "execution_count": null,
      "outputs": [
        {
          "output_type": "stream",
          "name": "stdout",
          "text": [
            "<class 'str'>\n"
          ]
        }
      ]
    },
    {
      "cell_type": "code",
      "source": [
        "company = \"regex\"\n",
        "print(\"My company is\",company)"
      ],
      "metadata": {
        "colab": {
          "base_uri": "https://localhost:8080/"
        },
        "id": "lkr9_r_3KQN0",
        "outputId": "7b586639-0cca-4f85-ddf3-9efae17b3368"
      },
      "execution_count": null,
      "outputs": [
        {
          "output_type": "stream",
          "name": "stdout",
          "text": [
            "My company is regex\n"
          ]
        }
      ]
    },
    {
      "cell_type": "code",
      "source": [
        "company  = \"regex\"\n",
        "print(f\"my company is {company}\")"
      ],
      "metadata": {
        "colab": {
          "base_uri": "https://localhost:8080/"
        },
        "id": "9fu5pUn1Kgc5",
        "outputId": "08b9568e-8733-4a55-d7b5-b4e2911e4fae"
      },
      "execution_count": null,
      "outputs": [
        {
          "output_type": "stream",
          "name": "stdout",
          "text": [
            "my company is regex\n"
          ]
        }
      ]
    },
    {
      "cell_type": "code",
      "source": [
        "name = \"Priyanshu\"\n",
        "age = 21\n",
        "print(\"My name is {} and i am {} years old\".format(name,age))"
      ],
      "metadata": {
        "colab": {
          "base_uri": "https://localhost:8080/"
        },
        "id": "k1QMjIkBKpqj",
        "outputId": "d299490f-7aa5-4b68-c824-efb218fa42bd"
      },
      "execution_count": null,
      "outputs": [
        {
          "output_type": "stream",
          "name": "stdout",
          "text": [
            "My name is Priyanshu and i am 21 years old\n"
          ]
        }
      ]
    },
    {
      "cell_type": "code",
      "source": [
        "# multi line string\n",
        "address = ''' b35 basant bahar\n",
        "gopalpura'''\n",
        "print(address)"
      ],
      "metadata": {
        "colab": {
          "base_uri": "https://localhost:8080/"
        },
        "id": "4JGtFaFfO1t4",
        "outputId": "d6fb9d2b-1129-4a09-eca8-4bbea8699298"
      },
      "execution_count": null,
      "outputs": [
        {
          "output_type": "stream",
          "name": "stdout",
          "text": [
            " b35 basant bahar\n",
            "gopalpura\n"
          ]
        }
      ]
    },
    {
      "cell_type": "code",
      "source": [
        "#  operators\n",
        "#  symbol = task/functionality\n",
        "# Arthmetic\n",
        "# logical\n",
        "# comparison\n",
        "# bitwise\n",
        "# membership\n",
        "# identity\n",
        "# Assignment\n",
        "\n",
        "11/2\n",
        "11//2"
      ],
      "metadata": {
        "colab": {
          "base_uri": "https://localhost:8080/"
        },
        "id": "qMUHyt3NUc5y",
        "outputId": "4c3408d2-8e59-4b62-f2f1-12e23c654d10"
      },
      "execution_count": null,
      "outputs": [
        {
          "output_type": "execute_result",
          "data": {
            "text/plain": [
              "5"
            ]
          },
          "metadata": {},
          "execution_count": 9
        }
      ]
    },
    {
      "cell_type": "code",
      "source": [
        "11%2"
      ],
      "metadata": {
        "colab": {
          "base_uri": "https://localhost:8080/"
        },
        "id": "SiMAk6M1kmlO",
        "outputId": "5de12902-334d-4bb3-c2de-de3757361cd2"
      },
      "execution_count": null,
      "outputs": [
        {
          "output_type": "execute_result",
          "data": {
            "text/plain": [
              "1"
            ]
          },
          "metadata": {},
          "execution_count": 10
        }
      ]
    },
    {
      "cell_type": "code",
      "source": [
        "3*2"
      ],
      "metadata": {
        "colab": {
          "base_uri": "https://localhost:8080/"
        },
        "id": "-kPKBRKOks9y",
        "outputId": "c834886a-60c0-4e1c-92db-9205afd9d12a"
      },
      "execution_count": null,
      "outputs": [
        {
          "output_type": "execute_result",
          "data": {
            "text/plain": [
              "6"
            ]
          },
          "metadata": {},
          "execution_count": 11
        }
      ]
    },
    {
      "cell_type": "code",
      "source": [
        "3**4"
      ],
      "metadata": {
        "colab": {
          "base_uri": "https://localhost:8080/"
        },
        "id": "5HbohBWSlIFk",
        "outputId": "00d9c32c-807b-4801-becf-d99dfd1cd211"
      },
      "execution_count": null,
      "outputs": [
        {
          "output_type": "execute_result",
          "data": {
            "text/plain": [
              "81"
            ]
          },
          "metadata": {},
          "execution_count": 12
        }
      ]
    },
    {
      "cell_type": "code",
      "source": [
        "1.0+2"
      ],
      "metadata": {
        "colab": {
          "base_uri": "https://localhost:8080/"
        },
        "id": "jQglAZGMlJ1s",
        "outputId": "e88641fd-fc6c-456c-8f38-d59b32f5b1b8"
      },
      "execution_count": null,
      "outputs": [
        {
          "output_type": "execute_result",
          "data": {
            "text/plain": [
              "3.0"
            ]
          },
          "metadata": {},
          "execution_count": 13
        }
      ]
    },
    {
      "cell_type": "code",
      "source": [
        "20//2+9"
      ],
      "metadata": {
        "colab": {
          "base_uri": "https://localhost:8080/"
        },
        "id": "W7jyILUxlMwp",
        "outputId": "515251c3-90c5-4903-f4d2-6ba7feb60fcd"
      },
      "execution_count": null,
      "outputs": [
        {
          "output_type": "execute_result",
          "data": {
            "text/plain": [
              "19"
            ]
          },
          "metadata": {},
          "execution_count": 14
        }
      ]
    },
    {
      "cell_type": "code",
      "source": [
        "9+7-2*3/2-1"
      ],
      "metadata": {
        "id": "vGIHXuCqlQNM",
        "colab": {
          "base_uri": "https://localhost:8080/"
        },
        "outputId": "012e35c2-a4e2-4545-9d81-9b8e46fb6b12"
      },
      "execution_count": null,
      "outputs": [
        {
          "output_type": "execute_result",
          "data": {
            "text/plain": [
              "12.0"
            ]
          },
          "metadata": {},
          "execution_count": 15
        }
      ]
    },
    {
      "cell_type": "code",
      "source": [
        "# comparison operator / relational operator\n",
        "# answer will be TRUE and False\n",
        "# <,>,<=,>=,==,!=\n",
        "x =10\n",
        "10==x"
      ],
      "metadata": {
        "id": "ZDBD4TmDlZwN",
        "colab": {
          "base_uri": "https://localhost:8080/"
        },
        "outputId": "3a88f4b9-4381-4ca9-c565-dfd42e962e54"
      },
      "execution_count": null,
      "outputs": [
        {
          "output_type": "execute_result",
          "data": {
            "text/plain": [
              "True"
            ]
          },
          "metadata": {},
          "execution_count": 16
        }
      ]
    },
    {
      "cell_type": "code",
      "source": [
        "# assignment operator\n",
        "x =500\n",
        "x +=10\n",
        "print(x)"
      ],
      "metadata": {
        "colab": {
          "base_uri": "https://localhost:8080/"
        },
        "id": "Uoy_pY8vm1CK",
        "outputId": "c3569c8b-d4c9-4fa5-9c73-3218e3503f69"
      },
      "execution_count": null,
      "outputs": [
        {
          "output_type": "stream",
          "name": "stdout",
          "text": [
            "510\n"
          ]
        }
      ]
    },
    {
      "cell_type": "code",
      "source": [
        "salary =1000\n",
        "salary+=10\n",
        "print(salary)"
      ],
      "metadata": {
        "colab": {
          "base_uri": "https://localhost:8080/"
        },
        "id": "f4TVCFbNnK7a",
        "outputId": "5456e09c-5b14-4f0f-e58a-512d48051db2"
      },
      "execution_count": null,
      "outputs": [
        {
          "output_type": "stream",
          "name": "stdout",
          "text": [
            "1010\n"
          ]
        }
      ]
    },
    {
      "cell_type": "code",
      "source": [
        "x= 10\n",
        "x//2\n",
        "print(x)"
      ],
      "metadata": {
        "colab": {
          "base_uri": "https://localhost:8080/"
        },
        "id": "uJFqAZPQnv0c",
        "outputId": "3e794861-2e61-46a6-c757-b4f87da6114a"
      },
      "execution_count": null,
      "outputs": [
        {
          "output_type": "stream",
          "name": "stdout",
          "text": [
            "10\n"
          ]
        }
      ]
    },
    {
      "cell_type": "code",
      "source": [
        "y=10\n",
        "y//=2\n",
        "print(y)"
      ],
      "metadata": {
        "colab": {
          "base_uri": "https://localhost:8080/"
        },
        "id": "jygB2up1n0RR",
        "outputId": "184119ce-b2d9-4ffd-ae6c-4583741a9461"
      },
      "execution_count": null,
      "outputs": [
        {
          "output_type": "stream",
          "name": "stdout",
          "text": [
            "5\n"
          ]
        }
      ]
    },
    {
      "cell_type": "code",
      "source": [
        "# logical operator\n",
        "# and => both condition are true\n",
        "age = 25\n",
        "salary =25000\n",
        "age>=25 and salary==25000\n",
        "\n"
      ],
      "metadata": {
        "colab": {
          "base_uri": "https://localhost:8080/"
        },
        "id": "KvGds3N1oBsU",
        "outputId": "2b2d00b8-2968-4f6d-d3e6-992273952aa4"
      },
      "execution_count": null,
      "outputs": [
        {
          "output_type": "execute_result",
          "data": {
            "text/plain": [
              "True"
            ]
          },
          "metadata": {},
          "execution_count": 23
        }
      ]
    },
    {
      "cell_type": "code",
      "source": [
        "# or => one condition  is true\n",
        "age = 15\n",
        "salary = 250000\n",
        "age>20 or salary>250000"
      ],
      "metadata": {
        "colab": {
          "base_uri": "https://localhost:8080/"
        },
        "id": "lfMgoETBo6WS",
        "outputId": "f2ef0d23-8ecf-4783-eab9-6f94a0b363c7"
      },
      "execution_count": null,
      "outputs": [
        {
          "output_type": "execute_result",
          "data": {
            "text/plain": [
              "False"
            ]
          },
          "metadata": {},
          "execution_count": 26
        }
      ]
    },
    {
      "cell_type": "code",
      "source": [
        "x = 10\n",
        "y=-5\n",
        "salary =10000\n",
        "(x>0 or y>0) and salary>5000\n"
      ],
      "metadata": {
        "colab": {
          "base_uri": "https://localhost:8080/"
        },
        "id": "HDfNfyszpNUY",
        "outputId": "9a4b0fa1-564b-4dcc-9376-277d1283234e"
      },
      "execution_count": null,
      "outputs": [
        {
          "output_type": "execute_result",
          "data": {
            "text/plain": [
              "True"
            ]
          },
          "metadata": {},
          "execution_count": 28
        }
      ]
    },
    {
      "cell_type": "code",
      "source": [
        "# not operator\n",
        "# not true\n",
        "not True\n"
      ],
      "metadata": {
        "colab": {
          "base_uri": "https://localhost:8080/"
        },
        "id": "METaOIomrANy",
        "outputId": "30d9f612-bdc3-4751-82ea-a5beef8e20d5"
      },
      "execution_count": null,
      "outputs": [
        {
          "output_type": "execute_result",
          "data": {
            "text/plain": [
              "False"
            ]
          },
          "metadata": {},
          "execution_count": 32
        }
      ]
    },
    {
      "cell_type": "code",
      "source": [
        "# membership operator => in, not in\n",
        "fruits = ['apple','banana','cherry']\n",
        "if 'banana' in fruits:\n",
        "  print(\"yes\")"
      ],
      "metadata": {
        "colab": {
          "base_uri": "https://localhost:8080/"
        },
        "id": "OhiL3IoMtPny",
        "outputId": "fbcc5948-2c5c-4f9f-da6f-f47fe8cd49f2"
      },
      "execution_count": null,
      "outputs": [
        {
          "output_type": "stream",
          "name": "stdout",
          "text": [
            "yes\n"
          ]
        }
      ]
    },
    {
      "cell_type": "code",
      "source": [
        "'an' in \"japan\""
      ],
      "metadata": {
        "colab": {
          "base_uri": "https://localhost:8080/"
        },
        "id": "icLmlLFJtnx8",
        "outputId": "bc087bb4-26c1-412b-ecae-6283ad75f001"
      },
      "execution_count": null,
      "outputs": [
        {
          "output_type": "execute_result",
          "data": {
            "text/plain": [
              "True"
            ]
          },
          "metadata": {},
          "execution_count": 41
        }
      ]
    },
    {
      "cell_type": "code",
      "source": [
        "'N' in \"japan\"\n",
        "# case sensitive"
      ],
      "metadata": {
        "colab": {
          "base_uri": "https://localhost:8080/"
        },
        "id": "OCu1j8tyt3YX",
        "outputId": "12d9b473-d244-48b9-87ef-99f16bbd35bc"
      },
      "execution_count": null,
      "outputs": [
        {
          "output_type": "execute_result",
          "data": {
            "text/plain": [
              "False"
            ]
          },
          "metadata": {},
          "execution_count": 40
        }
      ]
    },
    {
      "cell_type": "code",
      "source": [
        "'aj' not in \"japan\""
      ],
      "metadata": {
        "colab": {
          "base_uri": "https://localhost:8080/"
        },
        "id": "xFoP8EU_uCIR",
        "outputId": "b607d8c2-c8a1-4d89-e575-33307439f974"
      },
      "execution_count": null,
      "outputs": [
        {
          "output_type": "execute_result",
          "data": {
            "text/plain": [
              "True"
            ]
          },
          "metadata": {},
          "execution_count": 42
        }
      ]
    },
    {
      "cell_type": "code",
      "source": [
        "# bitwise operator =>8,4,2,1\n",
        "9&11"
      ],
      "metadata": {
        "colab": {
          "base_uri": "https://localhost:8080/"
        },
        "id": "r4ruRre2ud2w",
        "outputId": "8acf1cbb-e719-475c-84f7-23058d013f99"
      },
      "execution_count": null,
      "outputs": [
        {
          "output_type": "execute_result",
          "data": {
            "text/plain": [
              "9"
            ]
          },
          "metadata": {},
          "execution_count": 44
        }
      ]
    },
    {
      "cell_type": "code",
      "source": [
        "6&12"
      ],
      "metadata": {
        "colab": {
          "base_uri": "https://localhost:8080/"
        },
        "id": "wrKeJw4Ww0rH",
        "outputId": "14062911-1b78-4e96-ced2-24d8f88ccee9"
      },
      "execution_count": null,
      "outputs": [
        {
          "output_type": "execute_result",
          "data": {
            "text/plain": [
              "4"
            ]
          },
          "metadata": {},
          "execution_count": 45
        }
      ]
    },
    {
      "cell_type": "code",
      "source": [
        "19>>2\n",
        "# number // 2**bit(right shift)\n",
        "# number * 2**bit(left shift)\n",
        "19 //2**2"
      ],
      "metadata": {
        "colab": {
          "base_uri": "https://localhost:8080/"
        },
        "id": "m2ZApf26xpNd",
        "outputId": "666438f8-ff6f-43c8-bc94-4c022d94863d"
      },
      "execution_count": null,
      "outputs": [
        {
          "output_type": "execute_result",
          "data": {
            "text/plain": [
              "4"
            ]
          },
          "metadata": {},
          "execution_count": 46
        }
      ]
    },
    {
      "cell_type": "code",
      "source": [
        "19>>1\n",
        "# number // 2**bit(right shift)\n",
        "# number * 2**bit(left shift)\n",
        "19 //2**1"
      ],
      "metadata": {
        "colab": {
          "base_uri": "https://localhost:8080/"
        },
        "id": "BL21PTNTA_Qy",
        "outputId": "3f4f8b55-ea27-4b17-d5b9-0f8f5270457f"
      },
      "execution_count": null,
      "outputs": [
        {
          "output_type": "execute_result",
          "data": {
            "text/plain": [
              "9"
            ]
          },
          "metadata": {},
          "execution_count": 48
        }
      ]
    },
    {
      "cell_type": "code",
      "source": [
        "22<<3"
      ],
      "metadata": {
        "colab": {
          "base_uri": "https://localhost:8080/"
        },
        "id": "v5Wm4SCwBDWY",
        "outputId": "5cef335a-0592-4208-f247-93cbe7d0b8bf"
      },
      "execution_count": null,
      "outputs": [
        {
          "output_type": "execute_result",
          "data": {
            "text/plain": [
              "176"
            ]
          },
          "metadata": {},
          "execution_count": 51
        }
      ]
    },
    {
      "cell_type": "code",
      "source": [
        "9>>1"
      ],
      "metadata": {
        "colab": {
          "base_uri": "https://localhost:8080/"
        },
        "id": "I6KKWdqwBekX",
        "outputId": "626a0654-22c8-41b3-fe4e-af463e03a7a1"
      },
      "execution_count": null,
      "outputs": [
        {
          "output_type": "execute_result",
          "data": {
            "text/plain": [
              "4"
            ]
          },
          "metadata": {},
          "execution_count": 53
        }
      ]
    },
    {
      "cell_type": "code",
      "source": [
        "x = 500\n",
        "\n",
        "print(id(x))"
      ],
      "metadata": {
        "colab": {
          "base_uri": "https://localhost:8080/"
        },
        "id": "tRPqzs3sFlTL",
        "outputId": "e8fc9555-592a-410b-8932-841d8cdce7cd"
      },
      "execution_count": null,
      "outputs": [
        {
          "output_type": "stream",
          "name": "stdout",
          "text": [
            "137560552818192\n"
          ]
        }
      ]
    },
    {
      "cell_type": "code",
      "source": [
        "# Conditional statements\n",
        "x = 17\n",
        "if x>=18:\n",
        "  print(\"Adult\")\n",
        "else:\n",
        "  print(\"Mis match\")\n"
      ],
      "metadata": {
        "colab": {
          "base_uri": "https://localhost:8080/"
        },
        "id": "zo9vnhngZWXK",
        "outputId": "04a7e90b-56c9-4004-cf92-98a54c294bd8"
      },
      "execution_count": null,
      "outputs": [
        {
          "output_type": "stream",
          "name": "stdout",
          "text": [
            "Mis match\n"
          ]
        }
      ]
    },
    {
      "cell_type": "code",
      "source": [
        "# conditional question practise\n",
        "# Write a Python Program to find maximum between two numbers.\n",
        "num1= float(input(\"Enter the number 1:\"))\n",
        "num2 = float(input(\"Enter the number 2:\"))\n",
        "if num1>num2:\n",
        "  print(f\"The maximum number is {num1}\")\n",
        "elif(num1<num2):\n",
        "  print(f\"the maximum number is {num2}\")\n",
        "else:\n",
        "  print(\"Input mismatch\")"
      ],
      "metadata": {
        "id": "7HQufmHBb9CL",
        "colab": {
          "base_uri": "https://localhost:8080/"
        },
        "outputId": "ea81222b-a4e1-4c28-a47a-34e5b0c54a56"
      },
      "execution_count": null,
      "outputs": [
        {
          "output_type": "stream",
          "name": "stdout",
          "text": [
            "Enter the number 1:5\n",
            "Enter the number 2:15\n",
            "the maximum number is 15\n"
          ]
        }
      ]
    },
    {
      "cell_type": "code",
      "source": [
        "# Write a Python Program to find maximum between Four numbers.\n",
        "num1 = float(input(\"Enter the num1\"))\n",
        "num2 = float(input(\"Enter the num2\"))\n",
        "num3 = float(input(\"Enter the num3\"))\n",
        "num4 = float(input(\"Enter the num4\"))\n",
        "if num1> num2 and num1>num3 and num1>num4:\n",
        "  print(f\"num1 is greater then other.{num1}\")\n",
        "elif(num2> num1 and num2>num3 and num2>num4):\n",
        "  print(f\"num2 is greater then other {num2}\")\n",
        "elif(num3>num1 and num3>num2 and num3>num4):\n",
        "  print(f\"num3 is greater then other {num3}\")\n",
        "elif(num4>num1 and num4>num2 and num4> num3 ):\n",
        "  print(f\"num4 is greater then other , {num4}\")"
      ],
      "metadata": {
        "colab": {
          "base_uri": "https://localhost:8080/"
        },
        "id": "PX3FMU7WimzW",
        "outputId": "bb14c298-d255-4c6d-b6d3-8d666ac32640"
      },
      "execution_count": null,
      "outputs": [
        {
          "output_type": "stream",
          "name": "stdout",
          "text": [
            "Enter the num12\n",
            "Enter the num24\n",
            "Enter the num33\n",
            "Enter the num46\n",
            "num4 is greater then other , 6.0\n"
          ]
        }
      ]
    },
    {
      "cell_type": "code",
      "source": [
        "# Write a Python Program to check whether a number is negative, positive or zero.\n",
        "num = int(input(\"Enter the number :\"))\n",
        "if num==0:\n",
        "  print(f\"The number is zero {num}\")\n",
        "elif num<0:\n",
        "  print(f\"The number is negative: {num}\")\n",
        "elif num>0:\n",
        "  print(f\"The number is positive: {num}\")\n",
        "else:\n",
        "  print(\"Input mismatch\")\n"
      ],
      "metadata": {
        "colab": {
          "base_uri": "https://localhost:8080/"
        },
        "id": "hmrju3K4kIf2",
        "outputId": "3f381446-1c20-4682-92a8-0311df88a420"
      },
      "execution_count": null,
      "outputs": [
        {
          "output_type": "stream",
          "name": "stdout",
          "text": [
            "Enter the number :-1\n",
            "The number is negative -1\n"
          ]
        }
      ]
    },
    {
      "cell_type": "code",
      "source": [
        "# Write a Python Program to check whether a number is divisible by 5 and 11 or not.\n",
        "num  = int(input(\"Enter the number:\"))\n",
        "if num%5==0 and num%11==0:\n",
        "  print(f\"The number is divisible by both 5 and 11. {num}\")\n",
        "else:\n",
        "  print(\"Invalid input\")"
      ],
      "metadata": {
        "colab": {
          "base_uri": "https://localhost:8080/"
        },
        "id": "tTO0U_RHlYCa",
        "outputId": "ec060bed-05a2-4d3f-eb2e-59634b552207"
      },
      "execution_count": null,
      "outputs": [
        {
          "output_type": "stream",
          "name": "stdout",
          "text": [
            "Enter the number:110\n",
            "The number is divisible by both 5 and 11. 110\n"
          ]
        }
      ]
    },
    {
      "cell_type": "code",
      "source": [
        "# Write a Python Program to check whether a number is even or odd.\n",
        "num = int(input(\"Enter the number:\"))\n",
        "if num%2 ==0:\n",
        "  print(f\"the {num} is even\")\n",
        "elif num%2!=0:\n",
        "  print(f\"the {num } is odd\")\n",
        "else:\n",
        "  print(\"Invalid input please try again\")"
      ],
      "metadata": {
        "colab": {
          "base_uri": "https://localhost:8080/"
        },
        "id": "LkHNyI-9mUjM",
        "outputId": "0261587e-5518-498b-c4f8-5e3affbc69dd"
      },
      "execution_count": null,
      "outputs": [
        {
          "output_type": "stream",
          "name": "stdout",
          "text": [
            "Enter the number:14\n",
            "the 14 is even\n"
          ]
        }
      ]
    },
    {
      "cell_type": "code",
      "source": [
        "# Write a Python Program to check whether a year is leap year or not.\n",
        "num  = int(input(\"Enter the year:\"))\n",
        "if num%4==0 :\n",
        "  print(f\"The {num } is leap year\")\n",
        "else:\n",
        "  print(f\"{num} Not leap year \")"
      ],
      "metadata": {
        "colab": {
          "base_uri": "https://localhost:8080/"
        },
        "id": "bSHmfrAKm9xg",
        "outputId": "114cd243-bfd1-4dad-d29c-b80ae21dc9a8"
      },
      "execution_count": null,
      "outputs": [
        {
          "output_type": "stream",
          "name": "stdout",
          "text": [
            "Enter the year:2024\n",
            "The 2024 is leap year\n"
          ]
        }
      ]
    },
    {
      "cell_type": "code",
      "source": [
        "# Write a Python Program to check whether a character is alphabet or not.\n",
        "char = input(\"Enter the character:\")\n",
        "if len(char)==1:\n",
        "  if char.isalpha():\n",
        "    print(f\"The character is  {char} is alphbet\")\n",
        "  else:\n",
        "    print(f\"The character is {char} is not alphabet\")\n",
        "else:\n",
        "  print(\"plz enter the single character\")"
      ],
      "metadata": {
        "colab": {
          "base_uri": "https://localhost:8080/",
          "height": 373
        },
        "id": "x5SSmirjneta",
        "outputId": "e2d66e73-cc24-447a-9001-0780786b480d"
      },
      "execution_count": null,
      "outputs": [
        {
          "output_type": "error",
          "ename": "KeyboardInterrupt",
          "evalue": "Interrupted by user",
          "traceback": [
            "\u001b[0;31m---------------------------------------------------------------------------\u001b[0m",
            "\u001b[0;31mKeyboardInterrupt\u001b[0m                         Traceback (most recent call last)",
            "\u001b[0;32m<ipython-input-21-4a0abaa7df2d>\u001b[0m in \u001b[0;36m<cell line: 0>\u001b[0;34m()\u001b[0m\n\u001b[1;32m      1\u001b[0m \u001b[0;31m# Write a Python Program to check whether a character is alphabet or not.\u001b[0m\u001b[0;34m\u001b[0m\u001b[0;34m\u001b[0m\u001b[0m\n\u001b[0;32m----> 2\u001b[0;31m \u001b[0mchar\u001b[0m \u001b[0;34m=\u001b[0m \u001b[0minput\u001b[0m\u001b[0;34m(\u001b[0m\u001b[0;34m\"Enter the character:\"\u001b[0m\u001b[0;34m)\u001b[0m\u001b[0;34m\u001b[0m\u001b[0;34m\u001b[0m\u001b[0m\n\u001b[0m\u001b[1;32m      3\u001b[0m \u001b[0;32mif\u001b[0m \u001b[0mlen\u001b[0m\u001b[0;34m(\u001b[0m\u001b[0mchar\u001b[0m\u001b[0;34m)\u001b[0m\u001b[0;34m==\u001b[0m\u001b[0;36m1\u001b[0m\u001b[0;34m:\u001b[0m\u001b[0;34m\u001b[0m\u001b[0;34m\u001b[0m\u001b[0m\n\u001b[1;32m      4\u001b[0m   \u001b[0;32mif\u001b[0m \u001b[0mchar\u001b[0m\u001b[0;34m.\u001b[0m\u001b[0misalpha\u001b[0m\u001b[0;34m(\u001b[0m\u001b[0;34m)\u001b[0m\u001b[0;34m:\u001b[0m\u001b[0;34m\u001b[0m\u001b[0;34m\u001b[0m\u001b[0m\n\u001b[1;32m      5\u001b[0m     \u001b[0mprint\u001b[0m\u001b[0;34m(\u001b[0m\u001b[0;34mf\"The character is  '{char}' is alphbet\"\u001b[0m\u001b[0;34m)\u001b[0m\u001b[0;34m\u001b[0m\u001b[0;34m\u001b[0m\u001b[0m\n",
            "\u001b[0;32m/usr/local/lib/python3.11/dist-packages/ipykernel/kernelbase.py\u001b[0m in \u001b[0;36mraw_input\u001b[0;34m(self, prompt)\u001b[0m\n\u001b[1;32m    849\u001b[0m                 \u001b[0;34m\"raw_input was called, but this frontend does not support input requests.\"\u001b[0m\u001b[0;34m\u001b[0m\u001b[0;34m\u001b[0m\u001b[0m\n\u001b[1;32m    850\u001b[0m             )\n\u001b[0;32m--> 851\u001b[0;31m         return self._input_request(str(prompt),\n\u001b[0m\u001b[1;32m    852\u001b[0m             \u001b[0mself\u001b[0m\u001b[0;34m.\u001b[0m\u001b[0m_parent_ident\u001b[0m\u001b[0;34m,\u001b[0m\u001b[0;34m\u001b[0m\u001b[0;34m\u001b[0m\u001b[0m\n\u001b[1;32m    853\u001b[0m             \u001b[0mself\u001b[0m\u001b[0;34m.\u001b[0m\u001b[0m_parent_header\u001b[0m\u001b[0;34m,\u001b[0m\u001b[0;34m\u001b[0m\u001b[0;34m\u001b[0m\u001b[0m\n",
            "\u001b[0;32m/usr/local/lib/python3.11/dist-packages/ipykernel/kernelbase.py\u001b[0m in \u001b[0;36m_input_request\u001b[0;34m(self, prompt, ident, parent, password)\u001b[0m\n\u001b[1;32m    893\u001b[0m             \u001b[0;32mexcept\u001b[0m \u001b[0mKeyboardInterrupt\u001b[0m\u001b[0;34m:\u001b[0m\u001b[0;34m\u001b[0m\u001b[0;34m\u001b[0m\u001b[0m\n\u001b[1;32m    894\u001b[0m                 \u001b[0;31m# re-raise KeyboardInterrupt, to truncate traceback\u001b[0m\u001b[0;34m\u001b[0m\u001b[0;34m\u001b[0m\u001b[0m\n\u001b[0;32m--> 895\u001b[0;31m                 \u001b[0;32mraise\u001b[0m \u001b[0mKeyboardInterrupt\u001b[0m\u001b[0;34m(\u001b[0m\u001b[0;34m\"Interrupted by user\"\u001b[0m\u001b[0;34m)\u001b[0m \u001b[0;32mfrom\u001b[0m \u001b[0;32mNone\u001b[0m\u001b[0;34m\u001b[0m\u001b[0;34m\u001b[0m\u001b[0m\n\u001b[0m\u001b[1;32m    896\u001b[0m             \u001b[0;32mexcept\u001b[0m \u001b[0mException\u001b[0m \u001b[0;32mas\u001b[0m \u001b[0me\u001b[0m\u001b[0;34m:\u001b[0m\u001b[0;34m\u001b[0m\u001b[0;34m\u001b[0m\u001b[0m\n\u001b[1;32m    897\u001b[0m                 \u001b[0mself\u001b[0m\u001b[0;34m.\u001b[0m\u001b[0mlog\u001b[0m\u001b[0;34m.\u001b[0m\u001b[0mwarning\u001b[0m\u001b[0;34m(\u001b[0m\u001b[0;34m\"Invalid Message:\"\u001b[0m\u001b[0;34m,\u001b[0m \u001b[0mexc_info\u001b[0m\u001b[0;34m=\u001b[0m\u001b[0;32mTrue\u001b[0m\u001b[0;34m)\u001b[0m\u001b[0;34m\u001b[0m\u001b[0;34m\u001b[0m\u001b[0m\n",
            "\u001b[0;31mKeyboardInterrupt\u001b[0m: Interrupted by user"
          ]
        }
      ]
    },
    {
      "cell_type": "code",
      "source": [
        "# Write a Python Program to input any alphabet and check whether it is vowel or consonant.\n",
        "char =input(\"Enter the character:\")\n",
        "if len(char)==1 and char.isalpha():\n",
        "  char = char.lower()\n",
        "  if char in 'aeiou':\n",
        "    print(f\"The character is '{char}' is vowel \")\n",
        "  else:\n",
        "    print(f\"The character is '{char }' is consonant\")\n",
        "else:\n",
        "  print(\"plz enter the single input\")"
      ],
      "metadata": {
        "colab": {
          "base_uri": "https://localhost:8080/"
        },
        "id": "c7_9h86Xqs_v",
        "outputId": "9c6e6371-15da-4477-d93f-cbe55de82488"
      },
      "execution_count": null,
      "outputs": [
        {
          "output_type": "stream",
          "name": "stdout",
          "text": [
            "Enter the character:yu\n",
            "plz enter the single input\n"
          ]
        }
      ]
    },
    {
      "cell_type": "code",
      "source": [
        "# Write a Python Program to input any character and check whether it is alphabet, digit or special character.\n",
        "char =input(\"enter the character:\")\n",
        "if len(char)==1:\n",
        "  if char in 'abcdefghijklmnopqrstuvwxyz':\n",
        "    print(f\"The character is {char} alphabetic\")\n",
        "  elif char in \"0123456789\":\n",
        "    print(f\"The character is {char} is digit\")\n",
        "  else:\n",
        "    print(f\"The character is {char} is  a special character\")\n",
        "else:\n",
        "  print(\"Plz enter the single character\")\n",
        "\n"
      ],
      "metadata": {
        "colab": {
          "base_uri": "https://localhost:8080/"
        },
        "id": "X08Vpok0t1e4",
        "outputId": "9f641637-5088-4d93-fc32-66bf2c272ad1"
      },
      "execution_count": null,
      "outputs": [
        {
          "output_type": "stream",
          "name": "stdout",
          "text": [
            "enter the character:$\n",
            "The character is $ is special character\n"
          ]
        }
      ]
    },
    {
      "cell_type": "code",
      "source": [
        "# Write a Python Program to input any character and check whether it is alphabet, digit or special character.\n",
        "char  = input(\"Enter the character:\")\n",
        "if len(char)==1:\n",
        "  if char.isalpha():\n",
        "    print(f\"The character is {char} is alphabetic\")\n",
        "  elif char.isdigit():\n",
        "    print(f\"The character is {char} is digit\")\n",
        "  else:\n",
        "    print(f\"The character is {char } is special character\")\n",
        "\n",
        "else:\n",
        "  print(\"plz enter only single character\")"
      ],
      "metadata": {
        "colab": {
          "base_uri": "https://localhost:8080/"
        },
        "id": "CatRK11nuuEY",
        "outputId": "feba167a-119e-4ec6-97bf-4ecb2e39a386"
      },
      "execution_count": null,
      "outputs": [
        {
          "output_type": "stream",
          "name": "stdout",
          "text": [
            "Enter the character:as\n",
            "plz enter only single character\n"
          ]
        }
      ]
    },
    {
      "cell_type": "code",
      "source": [
        "# Write a Python Program to check whether a character is uppercase or lowercase alphabet.\n",
        "char = input(\"Enter the character:\")\n",
        "if len(char)==1 and char.isalpha():\n",
        "  if char.isupper():\n",
        "    print(f\"The character is '{char}' is an uppercase alphabet\")\n",
        "  elif char.islower():\n",
        "    print(f\"The character is '{char}' is an lowercase alphabet \")\n",
        "else:\n",
        "  print(\"Invalid input\")"
      ],
      "metadata": {
        "colab": {
          "base_uri": "https://localhost:8080/"
        },
        "id": "cl56w7nVx_Zv",
        "outputId": "0c7d090a-d0af-4c6e-df13-e21b7c23e0ed"
      },
      "execution_count": null,
      "outputs": [
        {
          "output_type": "stream",
          "name": "stdout",
          "text": [
            "Enter the character:a\n",
            "The character is 'a' is an lowercase alphabet \n"
          ]
        }
      ]
    },
    {
      "cell_type": "code",
      "source": [
        "# Write a Python Program to input week number and print week day.\n",
        "num = int(input(\"Enter the number:\"))\n",
        "if num == 1:\n",
        "  print(\"Sunday\")\n",
        "elif num == 2:\n",
        "  print(\"Monday\")\n",
        "elif num == 3:\n",
        "  print(\"Tuesday\")\n",
        "elif num == 4:\n",
        "  print(\"Wednesday\")\n",
        "elif num == 5:\n",
        "  print(\"Thrusday\")\n",
        "elif num == 6:\n",
        "  print(\"Friday\")\n",
        "elif num == 7:\n",
        "  print(\"Saturday\")\n",
        "else:\n",
        "  print(\"Invalid input\")"
      ],
      "metadata": {
        "id": "YBZ1sk-lznPm",
        "colab": {
          "base_uri": "https://localhost:8080/"
        },
        "outputId": "4b2406cc-3df8-4080-dbf4-6811cd868438"
      },
      "execution_count": null,
      "outputs": [
        {
          "output_type": "stream",
          "name": "stdout",
          "text": [
            "Enter the number:5\n",
            "Thrusday\n"
          ]
        }
      ]
    },
    {
      "cell_type": "code",
      "source": [
        "# Write a Python Program to input week number and print week day.\n",
        "def get_weekday(weekNumber):\n",
        "  weekdays = {\n",
        "      1:'sunday',\n",
        "      2:'monday',\n",
        "      3:'tuesday',\n",
        "      4:'wednesday',\n",
        "      5:'thursday',\n",
        "      6:'Friday',\n",
        "      7:'saturday'\n",
        "  }"
      ],
      "metadata": {
        "id": "Oux9ACkKVzZv"
      },
      "execution_count": null,
      "outputs": []
    },
    {
      "cell_type": "code",
      "source": [
        "# loops (for , while)\n",
        "# for => number of iteration/repetations are decided\n",
        "# for vairable in range(start,last,step size)\n",
        "# stopping is excluded\n",
        "for x in range(10,16):\n",
        "  print(\"Hello\",x)"
      ],
      "metadata": {
        "colab": {
          "base_uri": "https://localhost:8080/"
        },
        "id": "J0hDJiMu6NYr",
        "outputId": "2adb0a91-ced5-4173-bb19-df2545658aa2"
      },
      "execution_count": null,
      "outputs": [
        {
          "output_type": "stream",
          "name": "stdout",
          "text": [
            "Hello 10\n",
            "Hello 11\n",
            "Hello 12\n",
            "Hello 13\n",
            "Hello 14\n",
            "Hello 15\n"
          ]
        }
      ]
    },
    {
      "cell_type": "code",
      "source": [
        "for i in range(10,16):\n",
        "  print(\"Hello\",i)"
      ],
      "metadata": {
        "id": "9_wvGEOQ6V-k",
        "colab": {
          "base_uri": "https://localhost:8080/"
        },
        "outputId": "cbb2fba2-56d0-4781-f57c-225e8b64801e"
      },
      "execution_count": null,
      "outputs": [
        {
          "output_type": "stream",
          "name": "stdout",
          "text": [
            "Hello 10\n",
            "Hello 11\n",
            "Hello 12\n",
            "Hello 13\n",
            "Hello 14\n",
            "Hello 15\n"
          ]
        }
      ]
    },
    {
      "cell_type": "code",
      "source": [
        "# with step size\n",
        "for i in range(10,16,2):\n",
        "  print(\"Hello\",i)"
      ],
      "metadata": {
        "colab": {
          "base_uri": "https://localhost:8080/"
        },
        "id": "uZY3eULtCWw6",
        "outputId": "a362ea0c-77c5-4a6b-fe0f-4f44fa487d30"
      },
      "execution_count": null,
      "outputs": [
        {
          "output_type": "stream",
          "name": "stdout",
          "text": [
            "Hello 10\n",
            "Hello 12\n",
            "Hello 14\n"
          ]
        }
      ]
    },
    {
      "cell_type": "code",
      "source": [
        "# reverse step size\n",
        "for i in range(16,10,-1):\n",
        "  print(\"Hello\",i)"
      ],
      "metadata": {
        "colab": {
          "base_uri": "https://localhost:8080/"
        },
        "id": "5dXkBCeSCj0P",
        "outputId": "a6250603-cd43-4024-f5a8-6a895868e773"
      },
      "execution_count": null,
      "outputs": [
        {
          "output_type": "stream",
          "name": "stdout",
          "text": [
            "Hello 16\n",
            "Hello 15\n",
            "Hello 14\n",
            "Hello 13\n",
            "Hello 12\n",
            "Hello 11\n"
          ]
        }
      ]
    },
    {
      "cell_type": "code",
      "source": [
        "for i in range(16,10,-2):\n",
        "  print(\"Hello\",i)"
      ],
      "metadata": {
        "colab": {
          "base_uri": "https://localhost:8080/"
        },
        "id": "lVAexHI3Cr3G",
        "outputId": "fd839029-19a1-4a27-af0e-eb6db3d42fac"
      },
      "execution_count": null,
      "outputs": [
        {
          "output_type": "stream",
          "name": "stdout",
          "text": [
            "Hello 16\n",
            "Hello 14\n",
            "Hello 12\n"
          ]
        }
      ]
    },
    {
      "cell_type": "code",
      "source": [
        "total  = 0\n",
        "for x in range(2,10):\n",
        "  total = total+x\n",
        "  print(x,total)"
      ],
      "metadata": {
        "colab": {
          "base_uri": "https://localhost:8080/"
        },
        "id": "4C60yzuPCvRZ",
        "outputId": "3493c541-0f64-42f3-b84c-1bc834690b4b"
      },
      "execution_count": null,
      "outputs": [
        {
          "output_type": "stream",
          "name": "stdout",
          "text": [
            "2 2\n",
            "3 5\n",
            "4 9\n",
            "5 14\n",
            "6 20\n",
            "7 27\n",
            "8 35\n",
            "9 44\n"
          ]
        }
      ]
    },
    {
      "cell_type": "code",
      "source": [
        "product = 1\n",
        "for x in range(18,51):\n",
        "  product = product*x\n",
        "  print(x,product)"
      ],
      "metadata": {
        "colab": {
          "base_uri": "https://localhost:8080/"
        },
        "id": "2yy28yliECex",
        "outputId": "80ea13fe-fb9d-4dd3-8286-908e1b7107b4"
      },
      "execution_count": null,
      "outputs": [
        {
          "output_type": "stream",
          "name": "stdout",
          "text": [
            "18 18\n",
            "19 342\n",
            "20 6840\n",
            "21 143640\n",
            "22 3160080\n",
            "23 72681840\n",
            "24 1744364160\n",
            "25 43609104000\n",
            "26 1133836704000\n",
            "27 30613591008000\n",
            "28 857180548224000\n",
            "29 24858235898496000\n",
            "30 745747076954880000\n",
            "31 23118159385601280000\n",
            "32 739781100339240960000\n",
            "33 24412776311194951680000\n",
            "34 830034394580628357120000\n",
            "35 29051203810321992499200000\n",
            "36 1045843337171591729971200000\n",
            "37 38696203475348894008934400000\n",
            "38 1470455732063257972339507200000\n",
            "39 57347773550467060921240780800000\n",
            "40 2293910942018682436849631232000000\n",
            "41 94050348622765979910834880512000000\n",
            "42 3950114642156171156255064981504000000\n",
            "43 169854929612715359718967794204672000000\n",
            "44 7473616902959475827634582945005568000000\n",
            "45 336312760633176412243556232525250560000000\n",
            "46 15470386989126114963203586696161525760000000\n",
            "47 727108188488927403270568574719591710720000000\n",
            "48 34901193047468515356987291586540402114560000000\n",
            "49 1710158459325957252492377287740479703613440000000\n",
            "50 85507922966297862624618864387023985180672000000000\n"
          ]
        }
      ]
    },
    {
      "cell_type": "code",
      "source": [
        "# 2 to 21 odd and even\n",
        "even_numbers = []\n",
        "\n",
        "for num in range(2, 22):\n",
        "    if num % 2 == 0:\n",
        "        even_numbers.append(num)\n",
        "    else:\n",
        "        pass\n",
        "\n",
        "# Print the stored even numbers\n",
        "print(\"Even numbers from 2 to 21:\", even_numbers)\n"
      ],
      "metadata": {
        "colab": {
          "base_uri": "https://localhost:8080/"
        },
        "id": "8gko8YWrEjkE",
        "outputId": "668a5b74-346e-4035-e844-93cff5dd7110"
      },
      "execution_count": null,
      "outputs": [
        {
          "output_type": "stream",
          "name": "stdout",
          "text": [
            "Even numbers from 2 to 21: [2, 4, 6, 8, 10, 12, 14, 16, 18, 20]\n"
          ]
        }
      ]
    },
    {
      "cell_type": "code",
      "source": [
        "# loops question practise\n",
        "# 1. Write a program to print all natural numbers from 1 to n. – using while loop\n",
        "num = int(input(\"Enter the natural number :\"))\n",
        "i = 1\n",
        "while i<=num:\n",
        "  print(i,end=\" \")\n",
        "  i+=1"
      ],
      "metadata": {
        "id": "F8xqPcowFUay",
        "colab": {
          "base_uri": "https://localhost:8080/"
        },
        "outputId": "31b1aac4-a108-4f3a-c3a4-3fc1ac8b7369"
      },
      "execution_count": null,
      "outputs": [
        {
          "output_type": "stream",
          "name": "stdout",
          "text": [
            "Enter the natural number :10\n",
            "1 2 3 4 5 6 7 8 9 10 "
          ]
        }
      ]
    },
    {
      "cell_type": "code",
      "source": [
        "# 2. Write a program to print all natural numbers in reverse (from n to 1). – using while loop\n",
        "num = int(input(\"Enter the number : \"))\n",
        "i = num\n",
        "while i>=1:\n",
        "  print(i,end=\" \")\n",
        "  i-=1"
      ],
      "metadata": {
        "colab": {
          "base_uri": "https://localhost:8080/"
        },
        "id": "ImNEpVxDMfkt",
        "outputId": "c09e434c-6302-4c11-c001-009effb0b9a9"
      },
      "execution_count": null,
      "outputs": [
        {
          "output_type": "stream",
          "name": "stdout",
          "text": [
            "Enter the number : 10\n",
            "10 9 8 7 6 5 4 3 2 1 "
          ]
        }
      ]
    },
    {
      "cell_type": "code",
      "source": [
        "for i in range(21,1,-1):\n",
        "  print(i,end=\" \")\n"
      ],
      "metadata": {
        "colab": {
          "base_uri": "https://localhost:8080/"
        },
        "id": "h8yYfCRzNIte",
        "outputId": "6fefb318-2a5a-4fd5-c0c5-190ac7c62438"
      },
      "execution_count": null,
      "outputs": [
        {
          "output_type": "stream",
          "name": "stdout",
          "text": [
            "21 20 19 18 17 16 15 14 13 12 11 10 9 8 7 6 5 4 3 2 "
          ]
        }
      ]
    },
    {
      "cell_type": "code",
      "source": [
        "# 3. Write a program to print all alphabets from a to z. – using while loop with append in list\n",
        "char = []\n",
        "i = ord('A')\n",
        "print(\"A to Z characters\")\n",
        "while(i<=ord('Z')):\n",
        "  print(chr(i),end=\" \")\n",
        "  char.append(chr(i))\n",
        "  i+=1\n",
        "print(\"\\nstored in list:\",char)\n"
      ],
      "metadata": {
        "colab": {
          "base_uri": "https://localhost:8080/"
        },
        "id": "pQlHsRMXOGme",
        "outputId": "6dc5abfe-5e68-498b-dd1e-a5c2736da78e"
      },
      "execution_count": null,
      "outputs": [
        {
          "output_type": "stream",
          "name": "stdout",
          "text": [
            "A to Z characters\n",
            "A B C D E F G H I J K L M N O P Q R S T U V W X Y Z \n",
            "stored in list: ['A', 'B', 'C', 'D', 'E', 'F', 'G', 'H', 'I', 'J', 'K', 'L', 'M', 'N', 'O', 'P', 'Q', 'R', 'S', 'T', 'U', 'V', 'W', 'X', 'Y', 'Z']\n"
          ]
        }
      ]
    },
    {
      "cell_type": "code",
      "source": [
        "# Write a program to print all even numbers between 1 to 100. – using while loop\n",
        "i = 2\n",
        "while (i<=100):\n",
        "  print(i,end=\" \")\n",
        "  i+=2"
      ],
      "metadata": {
        "colab": {
          "base_uri": "https://localhost:8080/"
        },
        "id": "eHLXaMCQP7ca",
        "outputId": "139a1724-8766-46e7-831e-0380179f0b60"
      },
      "execution_count": null,
      "outputs": [
        {
          "output_type": "stream",
          "name": "stdout",
          "text": [
            "2 4 6 8 10 12 14 16 18 20 22 24 26 28 30 32 34 36 38 40 42 44 46 48 50 52 54 56 58 60 62 64 66 68 70 72 74 76 78 80 82 84 86 88 90 92 94 96 98 100 "
          ]
        }
      ]
    },
    {
      "cell_type": "code",
      "source": [
        "# 5. Write a program to find the sum of all odd numbers between 1 to n.\n",
        "n =  int(input(\"Enter the number:\"))\n",
        "total =0\n",
        "i = 1\n",
        "while(i<=n):\n",
        "  total  = total+i\n",
        "  i+=2\n",
        "print(total)\n",
        "\n"
      ],
      "metadata": {
        "colab": {
          "base_uri": "https://localhost:8080/"
        },
        "id": "0iZlTFXGRhJL",
        "outputId": "98a265da-0f03-4a2a-9bc1-4cfd56e27b3a"
      },
      "execution_count": null,
      "outputs": [
        {
          "output_type": "stream",
          "name": "stdout",
          "text": [
            "Enter the number:10\n",
            "25\n"
          ]
        }
      ]
    },
    {
      "cell_type": "code",
      "source": [
        "# 6. Write a program to sum of all even number by user input\n",
        "\n",
        "n = int(input(\"Enter the number :\"))\n",
        "total  = 0\n",
        "i = 0\n",
        "while(i<=n):\n",
        "  total  = total+i\n",
        "  i+=2\n",
        "print(total)"
      ],
      "metadata": {
        "id": "OU50fmUTVJjp",
        "colab": {
          "base_uri": "https://localhost:8080/"
        },
        "outputId": "2d3f851c-8d78-4e0b-e760-28b889e933e8"
      },
      "execution_count": 1,
      "outputs": [
        {
          "output_type": "stream",
          "name": "stdout",
          "text": [
            "Enter the number :10\n",
            "30\n"
          ]
        }
      ]
    },
    {
      "cell_type": "code",
      "source": [
        "# 6. Write a program to count the number of digits in a number.\n",
        "n = int(input(\"Enter the number:\"))\n",
        "count = 0\n",
        "while n!=0:\n",
        "  n = n//10\n",
        "  count+=1\n",
        "\n",
        "print(count)"
      ],
      "metadata": {
        "colab": {
          "base_uri": "https://localhost:8080/"
        },
        "id": "p0u4RhxVTW0G",
        "outputId": "eb1a0007-ceb1-4139-e83f-d998437196e8"
      },
      "execution_count": 6,
      "outputs": [
        {
          "output_type": "stream",
          "name": "stdout",
          "text": [
            "Enter the number:7974561321648\n",
            "13\n"
          ]
        }
      ]
    },
    {
      "cell_type": "code",
      "source": [
        "# 7. Write a program to calculate the sum of digits of a number.\n",
        "n = int(input(\"Enter the number :\"))\n",
        "sum = 0\n",
        "while n!=0:\n",
        "  sum += n%10\n",
        "  n  = n//10\n",
        "print(sum)"
      ],
      "metadata": {
        "colab": {
          "base_uri": "https://localhost:8080/"
        },
        "id": "JV57oAYrV0zs",
        "outputId": "cf1d5e46-fcc3-43cf-b080-b78a8f3c8469"
      },
      "execution_count": 8,
      "outputs": [
        {
          "output_type": "stream",
          "name": "stdout",
          "text": [
            "Enter the number :12345\n",
            "15\n"
          ]
        }
      ]
    },
    {
      "cell_type": "code",
      "source": [
        "# 8. Write a program to find the first and last digit of a number.\n"
      ],
      "metadata": {
        "id": "3Moo_2ZgXfHj"
      },
      "execution_count": 7,
      "outputs": []
    }
  ]
}